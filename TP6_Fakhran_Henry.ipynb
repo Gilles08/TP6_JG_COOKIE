{
  "nbformat": 4,
  "nbformat_minor": 0,
  "metadata": {
    "kernelspec": {
      "display_name": "Python 3",
      "language": "python",
      "name": "python3"
    },
    "language_info": {
      "codemirror_mode": {
        "name": "ipython",
        "version": 3
      },
      "file_extension": ".py",
      "mimetype": "text/x-python",
      "name": "python",
      "nbconvert_exporter": "python",
      "pygments_lexer": "ipython3",
      "version": "3.8.0"
    },
    "colab": {
      "name": "TP6_Fakhran_Henry.ipynb",
      "provenance": [],
      "collapsed_sections": []
    }
  },
  "cells": [
    {
      "cell_type": "code",
      "metadata": {
        "id": "9cRKJ5aWSnyM",
        "colab_type": "code",
        "outputId": "e148a861-581c-4b89-9703-0148d9222228",
        "colab": {
          "base_uri": "https://localhost:8080/",
          "height": 120
        }
      },
      "source": [
        "from google.colab import drive\n",
        "drive.mount('/content/gdrive')"
      ],
      "execution_count": 1,
      "outputs": [
        {
          "output_type": "stream",
          "text": [
            "Go to this URL in a browser: https://accounts.google.com/o/oauth2/auth?client_id=947318989803-6bn6qk8qdgf4n4g3pfee6491hc0brc4i.apps.googleusercontent.com&redirect_uri=urn%3aietf%3awg%3aoauth%3a2.0%3aoob&response_type=code&scope=email%20https%3a%2f%2fwww.googleapis.com%2fauth%2fdocs.test%20https%3a%2f%2fwww.googleapis.com%2fauth%2fdrive%20https%3a%2f%2fwww.googleapis.com%2fauth%2fdrive.photos.readonly%20https%3a%2f%2fwww.googleapis.com%2fauth%2fpeopleapi.readonly\n",
            "\n",
            "Enter your authorization code:\n",
            "··········\n",
            "Mounted at /content/gdrive\n"
          ],
          "name": "stdout"
        }
      ]
    },
    {
      "cell_type": "markdown",
      "metadata": {
        "id": "Z70Rd5B53qTN",
        "colab_type": "text"
      },
      "source": [
        "IMPORTS\n",
        "\n",
        "\n"
      ]
    },
    {
      "cell_type": "code",
      "metadata": {
        "id": "O5RLS2duzDx8",
        "colab_type": "code",
        "colab": {}
      },
      "source": [
        "# PART 1\n",
        "import os\n",
        "import csv\n",
        "import pandas as pd\n",
        "import numpy\n",
        "import statistics as s\n",
        "from sklearn.ensemble import RandomForestClassifier\n",
        "from sklearn.metrics import precision_recall_fscore_support\n",
        "from sklearn.model_selection import train_test_split\n",
        "\n",
        "# PART 2\n",
        "from sklearn.tree import DecisionTreeClassifier\n",
        "from sklearn import svm\n",
        "import numpy as np\n",
        "from sklearn.metrics import accuracy_score\n",
        "from sklearn.metrics import roc_curve\n",
        "import matplotlib.pyplot as plt\n",
        "\n",
        "\n",
        "\n"
      ],
      "execution_count": 0,
      "outputs": []
    },
    {
      "cell_type": "markdown",
      "metadata": {
        "id": "TyfheHXD349X",
        "colab_type": "text"
      },
      "source": [
        "PART 1"
      ]
    },
    {
      "cell_type": "code",
      "metadata": {
        "id": "X08JWNjvSnyW",
        "colab_type": "code",
        "outputId": "e0024204-b9b7-4107-aff0-b81ce7b74b4b",
        "colab": {
          "base_uri": "https://localhost:8080/",
          "height": 450
        }
      },
      "source": [
        "# cll dataset\n",
        "datafile=\"/content/cll_dataset.csv\"\n",
        "# 0- read the file\n",
        "cll = pd.read_csv(datafile)\n",
        "# a row is a sample = a patient\n",
        "# column 'Treat6m' recurrence of the disease, 1 if true, 0 if false\n",
        "# other columns are features = rate of several types of cells and molecules in the patient\n",
        "# -----------------------------------------------------------------------------------------\n",
        "# 1- create X the features, Y the predictions\n",
        "X = cll.drop(['Treat6m'], axis = 1)\n",
        "Y = cll.Treat6m\n",
        "\n",
        "# check\n",
        "print(\"cll dimensions: \", cll.shape)\n",
        "print(\"cll: \\n \", cll.head(5))\n",
        "print(\"features X: \\n\", X.head(5))\n",
        "print(\"label Y: \\n\", Y.head(5))"
      ],
      "execution_count": 4,
      "outputs": [
        {
          "output_type": "stream",
          "text": [
            "cll dimensions:  (31, 30)\n",
            "cll: \n",
            "     Treat6m   Naive   EMRA      CM  ...    ICAM-1      CD38      CCR4    CTLA-4\n",
            "0        1  0.0304  0.260  0.0150  ...  0.990000  0.262730  0.270001  0.163433\n",
            "1        0  0.1560  0.269  0.0387  ...  0.997190  0.145660  0.321924  0.041356\n",
            "2        1  0.0646  0.211  0.0363  ...  0.997586  0.385564  0.249591  0.062653\n",
            "3        0  0.0283  0.240  0.1180  ...  0.999200  0.170346  0.400480  0.067871\n",
            "4        0  0.0653  0.216  0.0949  ...  0.996289  0.148594  0.156187  0.000000\n",
            "\n",
            "[5 rows x 30 columns]\n",
            "features X: \n",
            "     Naive   EMRA      CM      EM  ...    ICAM-1      CD38      CCR4    CTLA-4\n",
            "0  0.0304  0.260  0.0150  0.2580  ...  0.990000  0.262730  0.270001  0.163433\n",
            "1  0.1560  0.269  0.0387  0.0832  ...  0.997190  0.145660  0.321924  0.041356\n",
            "2  0.0646  0.211  0.0363  0.2940  ...  0.997586  0.385564  0.249591  0.062653\n",
            "3  0.0283  0.240  0.1180  0.1300  ...  0.999200  0.170346  0.400480  0.067871\n",
            "4  0.0653  0.216  0.0949  0.2040  ...  0.996289  0.148594  0.156187  0.000000\n",
            "\n",
            "[5 rows x 29 columns]\n",
            "label Y: \n",
            " 0    1\n",
            "1    0\n",
            "2    1\n",
            "3    0\n",
            "4    0\n",
            "Name: Treat6m, dtype: int64\n"
          ],
          "name": "stdout"
        }
      ]
    },
    {
      "cell_type": "code",
      "metadata": {
        "id": "WRISjcq3hUy1",
        "colab_type": "code",
        "outputId": "8d8da07f-b7ab-4bd4-bb0f-f9ee1831ea73",
        "colab": {
          "base_uri": "https://localhost:8080/",
          "height": 33
        }
      },
      "source": [
        "# 2- create a function 'fit_rf' that fit random forests on xtrain, ytrain\n",
        "# it should return the random forest score on the xtest, ytest set.\n",
        "# use sklearn implementation\n",
        "def fit_rf(X, Y):\n",
        "  xtrain, xtest, ytrain, ytest = train_test_split(X, Y, test_size = 0.25)\n",
        "  rfc = RandomForestClassifier(max_depth=2, random_state=0)\n",
        "  rfc.fit(xtrain, ytrain)\n",
        "  score = rfc.score(xtest, ytest)\n",
        "  return(score)\n",
        "\n",
        "# check\n",
        "fit_rf(X,Y)\n"
      ],
      "execution_count": 0,
      "outputs": [
        {
          "output_type": "execute_result",
          "data": {
            "text/plain": [
              "0.875"
            ]
          },
          "metadata": {
            "tags": []
          },
          "execution_count": 6
        }
      ]
    },
    {
      "cell_type": "code",
      "metadata": {
        "id": "Hmz2Vu7mhuGO",
        "colab_type": "code",
        "outputId": "a5e18fe4-0f98-4246-cf86-f184ce0c1adc",
        "colab": {
          "base_uri": "https://localhost:8080/",
          "height": 33
        }
      },
      "source": [
        "# 3- create a function 'repeat_experiment' that will re-shuffle the dataset and fit a classifier a hundred times\n",
        "# store the score at each iteration\n",
        "# return the average score on the hundred iterations\n",
        "def repeat_experiment(X, Y, n):\n",
        "  # train_test_split makes automatically the re-shuffling\n",
        "  scores = [0]*n\n",
        "  for i in range(n):\n",
        "    scores[i] = fit_rf(X,Y)\n",
        "  return(s.mean(scores))\n",
        "\n",
        "\n",
        "# 4- Is it good ? (check score averaged over a hundred experiments)\n",
        "# for exemple 200 repetitions\n",
        "repeat_experiment(X, Y, 200) # yes it seems quite good\n"
      ],
      "execution_count": 0,
      "outputs": [
        {
          "output_type": "execute_result",
          "data": {
            "text/plain": [
              "0.78125"
            ]
          },
          "metadata": {
            "tags": []
          },
          "execution_count": 7
        }
      ]
    },
    {
      "cell_type": "code",
      "metadata": {
        "id": "kjVsk4TLS4O6",
        "colab_type": "code",
        "outputId": "136e1aa0-040f-407d-efa5-415cf25cf124",
        "colab": {
          "base_uri": "https://localhost:8080/",
          "height": 117
        }
      },
      "source": [
        "\n",
        "# 5- Is it actually good ? try to predict only vectors with 'Treat6m' = 1\n",
        "# You can compute per-class precision, recall, f-scores...\n",
        "\n",
        "# select data with only Treat6m = 1\n",
        "treatment1 =  cll[cll['Treat6m'] == 1]\n",
        "# label\n",
        "ytest1 = treatment1['Treat6m']\n",
        "# select the associated features\n",
        "xtest1 = X.loc[treatment1.index] \n",
        "\n",
        "def fit_rf_1(X, Y):\n",
        "  xtrain, xtest, ytrain, ytest = train_test_split(X, Y, test_size = 0.25) \n",
        "  rfc = RandomForestClassifier(max_depth=2, random_state=0) \n",
        "  rfc.fit(xtrain, ytrain) \n",
        "\n",
        "\n",
        "  # predictions\n",
        "  ypred1 = rfc.predict(xtest1)\n",
        "  print(\"predictions: \", ypred1)\n",
        "\n",
        "  # compute the corresponding score\n",
        "  score = rfc.score(xtest1,  [1 for i in range(len(xtest1))])\n",
        "  print(\"score: \", round(score, 2)) \n",
        "\n",
        "  per_class_measures = pd.DataFrame(precision_recall_fscore_support(y_true = ytest1, y_pred = ypred1, warn_for=('fscore'), average=None), index=[\"precision\", \"recall\", \"f1score\", \"support\"])\n",
        "  per_class_measures = per_class_measures[:-1]   # remove the support\n",
        "  print(per_class_measures)\n",
        "\n",
        "fit_rf_1(X,Y)"
      ],
      "execution_count": 36,
      "outputs": [
        {
          "output_type": "stream",
          "text": [
            "predictions:  [1 1 0 1 0 1 1]\n",
            "score:  0.71\n",
            "             0         1\n",
            "precision  0.0  1.000000\n",
            "recall     0.0  0.714286\n",
            "f1score    0.0  0.833333\n"
          ],
          "name": "stdout"
        }
      ]
    },
    {
      "cell_type": "code",
      "metadata": {
        "id": "L-MaNtpujspF",
        "colab_type": "code",
        "outputId": "80b0d6c3-75d3-48c3-951a-07ef43261b13",
        "colab": {
          "base_uri": "https://localhost:8080/",
          "height": 50
        }
      },
      "source": [
        "# 6- Why is it actually pretty bad ? help: ratio of class 1 and class 0 in the dataset\n",
        "print(\"The quite high score can suggest that we have good results whereas the metrics per class show very bad results for the class 0. Indeed we have an imbalanced dataset:\")\n",
        "print(\"There are \", len(Y[Y == 1]), \"times 1 in Treat6m and \", len(Y[Y == 0]), \"times 0.\")"
      ],
      "execution_count": 41,
      "outputs": [
        {
          "output_type": "stream",
          "text": [
            "The quite high score can suggest that we have good results whereas the metrics per class show very bad results for the class 0. Indeed we have an imbalanced dataset:\n",
            "There are  7 times 1 in Treat6m and  24 times 0.\n"
          ],
          "name": "stdout"
        }
      ]
    },
    {
      "cell_type": "markdown",
      "metadata": {
        "id": "nCHps-3t37XV",
        "colab_type": "text"
      },
      "source": [
        "PART 2"
      ]
    },
    {
      "cell_type": "code",
      "metadata": {
        "id": "zpN6LkKISnyl",
        "colab_type": "code",
        "outputId": "9f23e74d-d7f9-40f5-b189-6dd226168107",
        "colab": {
          "base_uri": "https://localhost:8080/",
          "height": 150
        }
      },
      "source": [
        "# Amazon has recorded some data from its job interviews.\n",
        "# After compiling all the data,\n",
        "# they came with a pair of features called \"skills\" and \"human fit\"\n",
        "# that are supposed to be sufficient to predict whether a candidate is worth interviewing.\n",
        "\n",
        "# 0- load the data\n",
        "genderdatafile = \"/content/gender_biased.csv\"\n",
        "genderdatafile = pd.read_csv(genderdatafile)\n",
        "\n",
        "print(\"dimensions: \", genderdatafile.shape)\n",
        "print(\"head file : \\n\", genderdatafile.head())"
      ],
      "execution_count": 3,
      "outputs": [
        {
          "output_type": "stream",
          "text": [
            "dimensions:  (2000, 5)\n",
            "head file : \n",
            "    Unnamed: 0    skills  human_fit  gender  selected\n",
            "0           0 -6.160503  -3.266742     1.0         0\n",
            "1           1  1.951289  -4.117315     0.0         0\n",
            "2           2  2.255315   2.801389     1.0         1\n",
            "3           3 -7.440054  -3.465629     0.0         0\n",
            "4           4  0.338412  -0.334471     0.0         1\n"
          ],
          "name": "stdout"
        }
      ]
    },
    {
      "cell_type": "code",
      "metadata": {
        "id": "mSq21W_q3rxk",
        "colab_type": "code",
        "outputId": "7890a80b-8b8e-4860-88f0-275a8fbb5a2b",
        "colab": {
          "base_uri": "https://localhost:8080/",
          "height": 33
        }
      },
      "source": [
        "# 1- Which feature should not be taken into account to discriminate candidates ?\n",
        "# we call this feature \"sensitive\"\n",
        "\n",
        "print(\"In this context of job interviews, gender should not be considered (discrimination)\")"
      ],
      "execution_count": 45,
      "outputs": [
        {
          "output_type": "stream",
          "text": [
            "In this context of job interviews, gender should not be considered (discrimination)\n"
          ],
          "name": "stdout"
        }
      ]
    },
    {
      "cell_type": "code",
      "metadata": {
        "id": "b7br32VTt3st",
        "colab_type": "code",
        "colab": {}
      },
      "source": [
        "# 2- Fit classifiers of your choice on the given dataset (output is \"selected\" column)\n",
        "# do not use the \"sensitive\" feature!!!\n",
        "\n",
        "X = genderdatafile.drop(['gender', 'Unnamed: 0', 'selected'], axis = 1)\n",
        "y = genderdatafile.selected\n",
        "\n",
        "xtrain, xtest, ytrain, ytest = train_test_split(X, y, test_size = 0.25, random_state=11)\n",
        "\n",
        "dtc = DecisionTreeClassifier(random_state=0)\n",
        "dtc.fit(xtrain, ytrain)\n",
        "ypred = dtc.predict(xtest)"
      ],
      "execution_count": 0,
      "outputs": []
    },
    {
      "cell_type": "code",
      "metadata": {
        "id": "X0V22LZXwZ1W",
        "colab_type": "code",
        "outputId": "d86b072f-167b-4105-ef23-eeeff56b3960",
        "colab": {
          "base_uri": "https://localhost:8080/",
          "height": 33
        }
      },
      "source": [
        "# 3- Evaluate the classifiers\n",
        "score = dtc.score(xtest, ytest)\n",
        "print(\"The score is : \", score)"
      ],
      "execution_count": 5,
      "outputs": [
        {
          "output_type": "stream",
          "text": [
            "The score is :  0.83\n"
          ],
          "name": "stdout"
        }
      ]
    },
    {
      "cell_type": "code",
      "metadata": {
        "id": "NZUeIQunx1dD",
        "colab_type": "code",
        "outputId": "d03a629b-570c-4e09-c4fd-c8d8367e38c8",
        "colab": {
          "base_uri": "https://localhost:8080/",
          "height": 50
        }
      },
      "source": [
        "# 4- What is the impact of automatic decision on the \"protected group\" (the one with sensitive=1)?\n",
        "# Prediction and Score on the protected group (sensitive=1)\n",
        "\n",
        "X = genderdatafile.drop(['Unnamed: 0', 'selected'], axis = 1)\n",
        "xtrain, xtest, ytrain, ytest = train_test_split(X, y, test_size = 0.25) \n",
        "dtc.fit(xtrain, ytrain) \n",
        "\n",
        "# select group gender = 1\n",
        "xtest1 = xtest.loc[xtest.gender == 1]\n",
        "ytest1 = ytest[xtest1.index]\n",
        "\n",
        "# select group gender = 0\n",
        "xtest0 = xtest.loc[xtest.gender == 0]\n",
        "ytest0 = ytest[xtest0.index]\n",
        "\n",
        "# predictions per group:\n",
        "ypred1 = dtc.predict(xtest1)\n",
        "ypred0 = dtc.predict(xtest0)\n",
        "\n",
        "# compute the corresponding scores:\n",
        "score1 = dtc.score(xtest1, ytest1)\n",
        "score0 = dtc.score(xtest0, ytest0)\n",
        "\n",
        "print(\"score1 (protected group): \", round(score1, 2)) \n",
        "print(\"score0 (not-protected group): \", round(score0, 2))  "
      ],
      "execution_count": 26,
      "outputs": [
        {
          "output_type": "stream",
          "text": [
            "score1 (protected group):  0.81\n",
            "score0 (not-protected group):  0.82\n"
          ],
          "name": "stdout"
        }
      ]
    },
    {
      "cell_type": "code",
      "metadata": {
        "id": "RAUlktxg1PBm",
        "colab_type": "code",
        "colab": {
          "base_uri": "https://localhost:8080/",
          "height": 67
        },
        "outputId": "6479a434-68eb-47fb-dfb6-c29fbfd4b90f"
      },
      "source": [
        "# 5- In sklearn, you can put a weight on samples\n",
        "# Find a weighting strategy to compute a fair classification\n",
        "\n",
        "print('To have a fair classification, we give more weight to the sample with less observations and less to the one with more observations. Then we divide by the size of the sample.')\n",
        "\n",
        "# sample select = 0\n",
        "size0 = len(genderdatafile[genderdatafile['gender'] == 0])\n",
        "weight0 = 1/size0 \n",
        "\n",
        "# sample select = 1\n",
        "size1 = len(genderdatafile[genderdatafile['gender'] == 1])\n",
        "weight1 = 1/size1\n",
        "\n",
        "print(\"weight 0 = \", weight0)\n",
        "print(\"weight 1 = \", weight1)"
      ],
      "execution_count": 28,
      "outputs": [
        {
          "output_type": "stream",
          "text": [
            "To have a fair classification, we give more weight to the sample with less observations and less to the one with more observations. Then we divide by the size of the sample.\n",
            "weight 0 =  0.0009276437847866419\n",
            "weight 1 =  0.0010845986984815619\n"
          ],
          "name": "stdout"
        }
      ]
    },
    {
      "cell_type": "code",
      "metadata": {
        "id": "ZBK-XOFx1PEE",
        "colab_type": "code",
        "colab": {
          "base_uri": "https://localhost:8080/",
          "height": 100
        },
        "outputId": "9186ea0b-eea3-466d-c455-b2db8b0f5879"
      },
      "source": [
        "# 6- Evaluate your classifier, check the trade-off between fairness and accuracy\n",
        "weights = np.where(genderdatafile['gender'] == 0, weight0, weight1)\n",
        "dtc.fit(xtrain, ytrain, sample_weight = weights[xtrain.index])\n",
        "\n",
        "# accuracy\n",
        "pred = dtc.predict_proba(xtest)[:, 1]\n",
        "accuracy = accuracy_score(ytest, pred_threshold)\n",
        "print(\"accuracy: \", accuracy, \"\\n\")\n",
        "\n",
        "# fairness\n",
        "xtest1 = xtest.loc[xtest.gender == 1]\n",
        "ytest1 = ytest[xtest1.index]\n",
        "\n",
        "xtest0 = xtest.loc[xtest.gender == 0]\n",
        "ytest0 = ytest[xtest0.index]\n",
        "\n",
        "\n",
        "# predictions per group:\n",
        "ypred1 = dtc.predict(xtest1)\n",
        "ypred0 = dtc.predict(xtest0)\n",
        "\n",
        "# compute the corresponding score:\n",
        "score1 = dtc.score(xtest1, ytest1)\n",
        "score0 = dtc.score(xtest0, ytest0)\n",
        "\n",
        "print(\"fairness:\")\n",
        "print(\"score1 (protected group): \", round(score1, 2)) \n",
        "print(\"score0 (not-protected group): \", round(score0, 2))  "
      ],
      "execution_count": 65,
      "outputs": [
        {
          "output_type": "stream",
          "text": [
            "accuracy:  0.81 \n",
            "\n",
            "fairness:\n",
            "score1 (protected group):  0.83\n",
            "score0 (not-protected group):  0.82\n"
          ],
          "name": "stdout"
        }
      ]
    },
    {
      "cell_type": "code",
      "metadata": {
        "id": "n-bc8QvA1PHV",
        "colab_type": "code",
        "colab": {}
      },
      "source": [
        "# 7- Another strategy here would be post-processing\n",
        "# train the classifier without re-weighting the samples\n",
        "\n",
        "xtrain, xtest, ytrain, ytest = train_test_split(X, y, test_size=0.2, random_state=11)\n",
        "dtc.fit(xtrain, ytrain)\n",
        "\n",
        "xtest1 = xtest.loc[xtest.gender == 1]\n",
        "ytest1 = ytest[xtest1.index]\n",
        "\n",
        "xtest0 = xtest.loc[xtest.gender == 0]\n",
        "ytest0 = ytest[xtest0.index]\n"
      ],
      "execution_count": 0,
      "outputs": []
    },
    {
      "cell_type": "code",
      "metadata": {
        "id": "PIrk0cUqx1gZ",
        "colab_type": "code",
        "colab": {
          "base_uri": "https://localhost:8080/",
          "height": 281
        },
        "outputId": "ef8d4b73-8f94-4a2f-8e45-3ebd31ebc2cb"
      },
      "source": [
        "# 8- Plot ROC curve for the \"protected group\" (sensitive=1)\n",
        "\n",
        "pred1 = dtc.predict_proba(xtest1)[:,1]\n",
        "fpr1, tpr1, threshold1 = roc_curve(ytest1, pred1)\n",
        "\n",
        "plt.title('ROC Decision Tree')\n",
        "plt.plot(fpr1, tpr1, label=\"protected group\")\n",
        "\n",
        "# 9- On the same graph, plot the ROC curve for the \"unprotected group\" (sensitive=0)\n",
        "pred0 = dtc.predict_proba(xtest0)[:,1]\n",
        "fpr0, tpr0, threshold0 = roc_curve(ytest0, pred0)\n",
        "plt.plot(fpr0, tpr0, label=\"unprotected group\")\n",
        "plt.legend()\n",
        "plt.show()"
      ],
      "execution_count": 44,
      "outputs": [
        {
          "output_type": "display_data",
          "data": {
            "image/png": "[encoded data removed]",
            "text/plain": [
              "<Figure size 432x288 with 1 Axes>"
            ]
          },
          "metadata": {
            "tags": []
          }
        }
      ]
    },
    {
      "cell_type": "code",
      "metadata": {
        "id": "IFyds7b8Cq73",
        "colab_type": "code",
        "colab": {
          "base_uri": "https://localhost:8080/",
          "height": 281
        },
        "outputId": "aca76133-19bd-4eaf-ca5e-6a0e833e3080"
      },
      "source": [
        "### EXAMPLE WITH ANOTHER TYPE OF CLASSIFIER\n",
        "\n",
        "xtrain, xtest, ytrain, ytest = train_test_split(X, y, test_size=0.2, random_state=11)\n",
        "rfc = RandomForestClassifier(random_state = 11)\n",
        "rfc.fit(xtrain, ytrain)\n",
        "\n",
        "xtest1 = xtest.loc[xtest.gender == 1]\n",
        "ytest1 = ytest[xtest1.index]\n",
        "xtest0 = xtest.loc[xtest.gender == 0]\n",
        "ytest0 = ytest[xtest0.index]\n",
        "\n",
        "pred1 = rfc.predict_proba(xtest1)[:,1]\n",
        "fpr1, tpr1, threshold = roc_curve(ytest1, pred1)\n",
        "\n",
        "plt.title('ROC Random Forest')\n",
        "plt.plot(fpr1, tpr1, label=\"protected group\")\n",
        "pred0 = rfc.predict_proba(xtest0)[:,1]\n",
        "fpr0, tpr0, threshold0 = roc_curve(ytest0, pred0)\n",
        "plt.plot(fpr0, tpr0, label=\"unprotected group\")\n",
        "plt.legend()\n",
        "plt.show()"
      ],
      "execution_count": 45,
      "outputs": [
        {
          "output_type": "display_data",
          "data": {
            "image/png": "[encoded data removed]",
            "text/plain": [
              "<Figure size 432x288 with 1 Axes>"
            ]
          },
          "metadata": {
            "tags": []
          }
        }
      ]
    },
    {
      "cell_type": "code",
      "metadata": {
        "id": "bgs4j3ak5vlj",
        "colab_type": "code",
        "colab": {
          "base_uri": "https://localhost:8080/",
          "height": 50
        },
        "outputId": "e6177c60-df45-4183-bd3b-87ce41236415"
      },
      "source": [
        "# 10- Find a fair thresholding rule on the prediction of your classifier\n",
        "\n",
        "threshold = size1/len(genderdatafile)\n",
        "print(\"To be fair, we use the same reasonning as the weighting of samples since we have\", size1, \"people in the protected group (n1) and\", size0, \"people in the unprotected group.\")\n",
        "print(\"Then, if a value above n1/N = \", threshold, \"(with N=2000: total number of people), then it predicts selected = 1\")"
      ],
      "execution_count": 52,
      "outputs": [
        {
          "output_type": "stream",
          "text": [
            "To be fair, we use the same reasonning as the weighting of samples since we have 922 people in the protected group (n1) and 1078 people in the unprotected group.\n",
            "Then, if a value above n1/N =  0.461 (with N=2000: total number of people), then it predicts selected = 1\n"
          ],
          "name": "stdout"
        }
      ]
    },
    {
      "cell_type": "code",
      "metadata": {
        "id": "ph65mJvN5zor",
        "colab_type": "code",
        "colab": {
          "base_uri": "https://localhost:8080/",
          "height": 83
        },
        "outputId": "b4f08a37-5d81-4def-c1d5-c41919a67334"
      },
      "source": [
        "# 11- Evaluate trade-off between accuracy and fairness\n",
        "pred_threshold = (dtc.predict_proba(xtest)[:, 1] >= threshold).astype('int')\n",
        "\n",
        "\n",
        "# accuracy\n",
        "accuracy = accuracy_score(ytest, pred_threshold)\n",
        "print(\"accuracy:\", accuracy)\n",
        "\n",
        "# fairness\n",
        "xtest1 = xtest.loc[xtest.gender == 1]\n",
        "ytest1 = ytest[xtest1.index]\n",
        "\n",
        "xtest0 = xtest.loc[xtest.gender == 0]\n",
        "ytest0 = ytest[xtest0.index]\n",
        "\n",
        "\n",
        "# predictions per group:\n",
        "ypred1 = dtc.predict(xtest1)\n",
        "ypred0 = dtc.predict(xtest0)\n",
        "\n",
        "# compute the corresponding score:\n",
        "score1 = dtc.score(xtest1, ytest1)\n",
        "score0 = dtc.score(xtest0, ytest0)\n",
        "\n",
        "print(\"fairness:\")\n",
        "print(\"score1 (protected group): \", round(score1, 2)) \n",
        "print(\"score0 (not-protected group): \", round(score0, 2))  "
      ],
      "execution_count": 60,
      "outputs": [
        {
          "output_type": "stream",
          "text": [
            "accuracy: 0.81\n",
            "fairness:\n",
            "score1 (protected group):  0.82\n",
            "score0 (not-protected group):  0.8\n"
          ],
          "name": "stdout"
        }
      ]
    }
  ]
}